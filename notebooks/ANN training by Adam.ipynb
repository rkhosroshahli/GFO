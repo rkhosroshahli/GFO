{
 "cells": [
  {
   "cell_type": "code",
   "execution_count": 1,
   "id": "2f502dda-e268-4ce1-91ec-cba4e1a68681",
   "metadata": {},
   "outputs": [
    {
     "name": "stdout",
     "output_type": "stream",
     "text": [
      "Running on device: CUDA\n"
     ]
    }
   ],
   "source": [
    "import numpy as np\n",
    "import torch\n",
    "import torch.nn as nn\n",
    "import torch.optim as optim\n",
    "\n",
    "import matplotlib.pyplot as plt\n",
    "from sklearn.metrics import f1_score, accuracy_score\n",
    "\n",
    "DEVICE = \"cuda\" if torch.cuda.is_available() else \"cpu\"\n",
    "print(\"Running on device:\", DEVICE.upper())"
   ]
  },
  {
   "cell_type": "code",
   "execution_count": 2,
   "id": "88ed3903-3b7a-4ddc-9a5b-dc6789f3523a",
   "metadata": {},
   "outputs": [],
   "source": [
    "from model import NeuralNetwork\n",
    "from data_loader import *\n",
    "from base import GradientFreeOptimization"
   ]
  },
  {
   "cell_type": "code",
   "execution_count": 3,
   "id": "34b80bc3-3d59-4d72-90c6-499cb21926a1",
   "metadata": {},
   "outputs": [
    {
     "name": "stdout",
     "output_type": "stream",
     "text": [
      "Size of balanced training dataset: 1000\n",
      "Size of balanced test dataset: 10000\n"
     ]
    }
   ],
   "source": [
    "train_loader = load_mnist_train(samples_per_class=100, seed=42, batch_size=64)\n",
    "test_loader = load_mnist_test(batch_size=64)"
   ]
  },
  {
   "cell_type": "code",
   "execution_count": 12,
   "id": "38ed31c9-9eaf-483e-997a-8f289a8080f0",
   "metadata": {},
   "outputs": [],
   "source": [
    "# Step 4: Choose a loss function and optimizer\n",
    "model = NeuralNetwork().to(DEVICE)\n",
    "criterion = nn.CrossEntropyLoss()\n",
    "optimizer = optim.Adam(model.parameters(), lr=0.001)"
   ]
  },
  {
   "cell_type": "code",
   "execution_count": 13,
   "id": "f0585f75-573a-4f3b-8969-0425d892a13b",
   "metadata": {},
   "outputs": [
    {
     "name": "stdout",
     "output_type": "stream",
     "text": [
      "Epoch [1/50], Training Loss: 2.1007, Training Accuracy: 30.90%, Training F1-score: 31.65%\n",
      "Epoch [2/50], Training Loss: 1.4873, Training Accuracy: 63.60%, Training F1-score: 61.77%\n",
      "Epoch [3/50], Training Loss: 0.9451, Training Accuracy: 76.30%, Training F1-score: 75.96%\n",
      "Epoch [4/50], Training Loss: 0.6789, Training Accuracy: 80.50%, Training F1-score: 80.44%\n",
      "Epoch [5/50], Training Loss: 0.5460, Training Accuracy: 83.70%, Training F1-score: 83.66%\n",
      "Epoch [6/50], Training Loss: 0.4698, Training Accuracy: 86.90%, Training F1-score: 86.87%\n",
      "Epoch [7/50], Training Loss: 0.4137, Training Accuracy: 88.80%, Training F1-score: 88.82%\n",
      "Epoch [8/50], Training Loss: 0.3531, Training Accuracy: 89.80%, Training F1-score: 89.80%\n",
      "Epoch [9/50], Training Loss: 0.3164, Training Accuracy: 90.70%, Training F1-score: 90.69%\n",
      "Epoch [10/50], Training Loss: 0.2850, Training Accuracy: 91.30%, Training F1-score: 91.32%\n",
      "Epoch [11/50], Training Loss: 0.2812, Training Accuracy: 91.20%, Training F1-score: 91.20%\n",
      "Epoch [12/50], Training Loss: 0.2393, Training Accuracy: 92.90%, Training F1-score: 92.93%\n",
      "Epoch [13/50], Training Loss: 0.2182, Training Accuracy: 93.90%, Training F1-score: 93.90%\n",
      "Epoch [14/50], Training Loss: 0.2107, Training Accuracy: 94.00%, Training F1-score: 94.02%\n",
      "Epoch [15/50], Training Loss: 0.1893, Training Accuracy: 94.70%, Training F1-score: 94.72%\n",
      "Epoch [16/50], Training Loss: 0.1716, Training Accuracy: 95.90%, Training F1-score: 95.90%\n",
      "Epoch [17/50], Training Loss: 0.1563, Training Accuracy: 96.60%, Training F1-score: 96.59%\n",
      "Epoch [18/50], Training Loss: 0.1503, Training Accuracy: 95.90%, Training F1-score: 95.92%\n",
      "Epoch [19/50], Training Loss: 0.1531, Training Accuracy: 95.10%, Training F1-score: 95.10%\n",
      "Epoch [20/50], Training Loss: 0.1318, Training Accuracy: 96.50%, Training F1-score: 96.51%\n",
      "Epoch [21/50], Training Loss: 0.1126, Training Accuracy: 97.40%, Training F1-score: 97.39%\n",
      "Epoch [22/50], Training Loss: 0.1177, Training Accuracy: 97.50%, Training F1-score: 97.51%\n",
      "Epoch [23/50], Training Loss: 0.0965, Training Accuracy: 98.10%, Training F1-score: 98.10%\n",
      "Epoch [24/50], Training Loss: 0.0840, Training Accuracy: 98.30%, Training F1-score: 98.30%\n",
      "Epoch [25/50], Training Loss: 0.0778, Training Accuracy: 98.70%, Training F1-score: 98.70%\n",
      "Epoch [26/50], Training Loss: 0.0752, Training Accuracy: 98.60%, Training F1-score: 98.60%\n",
      "Epoch [27/50], Training Loss: 0.0736, Training Accuracy: 98.90%, Training F1-score: 98.90%\n",
      "Epoch [28/50], Training Loss: 0.0643, Training Accuracy: 98.80%, Training F1-score: 98.80%\n",
      "Epoch [29/50], Training Loss: 0.0689, Training Accuracy: 98.40%, Training F1-score: 98.40%\n",
      "Epoch [30/50], Training Loss: 0.0621, Training Accuracy: 98.80%, Training F1-score: 98.80%\n",
      "Epoch [31/50], Training Loss: 0.0552, Training Accuracy: 99.40%, Training F1-score: 99.40%\n",
      "Epoch [32/50], Training Loss: 0.0531, Training Accuracy: 98.90%, Training F1-score: 98.90%\n",
      "Epoch [33/50], Training Loss: 0.0422, Training Accuracy: 99.30%, Training F1-score: 99.30%\n",
      "Epoch [34/50], Training Loss: 0.0391, Training Accuracy: 99.60%, Training F1-score: 99.60%\n",
      "Epoch [35/50], Training Loss: 0.0377, Training Accuracy: 99.50%, Training F1-score: 99.50%\n",
      "Epoch [36/50], Training Loss: 0.0315, Training Accuracy: 99.80%, Training F1-score: 99.80%\n",
      "Epoch [37/50], Training Loss: 0.0295, Training Accuracy: 99.90%, Training F1-score: 99.90%\n",
      "Epoch [38/50], Training Loss: 0.0280, Training Accuracy: 99.80%, Training F1-score: 99.80%\n",
      "Epoch [39/50], Training Loss: 0.0272, Training Accuracy: 99.90%, Training F1-score: 99.90%\n",
      "Epoch [40/50], Training Loss: 0.0254, Training Accuracy: 99.90%, Training F1-score: 99.90%\n",
      "Epoch [41/50], Training Loss: 0.0240, Training Accuracy: 99.90%, Training F1-score: 99.90%\n",
      "Epoch [42/50], Training Loss: 0.0228, Training Accuracy: 99.90%, Training F1-score: 99.90%\n",
      "Epoch [43/50], Training Loss: 0.0206, Training Accuracy: 99.90%, Training F1-score: 99.90%\n",
      "Epoch [44/50], Training Loss: 0.0160, Training Accuracy: 100.00%, Training F1-score: 100.00%\n",
      "Epoch [45/50], Training Loss: 0.0164, Training Accuracy: 100.00%, Training F1-score: 100.00%\n",
      "Epoch [46/50], Training Loss: 0.0150, Training Accuracy: 100.00%, Training F1-score: 100.00%\n",
      "Epoch [47/50], Training Loss: 0.0138, Training Accuracy: 100.00%, Training F1-score: 100.00%\n",
      "Epoch [48/50], Training Loss: 0.0131, Training Accuracy: 100.00%, Training F1-score: 100.00%\n",
      "Epoch [49/50], Training Loss: 0.0121, Training Accuracy: 100.00%, Training F1-score: 100.00%\n",
      "Epoch [50/50], Training Loss: 0.0116, Training Accuracy: 100.00%, Training F1-score: 100.00%\n"
     ]
    }
   ],
   "source": [
    "# Lists to store the training loss and accuracy for visualization\n",
    "train_loss_history = []\n",
    "train_accuracy_history = []\n",
    "train_f1score_history = []\n",
    "\n",
    "# Step 5: Train the network\n",
    "num_epochs = 50\n",
    "for epoch in range(num_epochs):\n",
    "    model.train()\n",
    "    running_loss = 0.0\n",
    "    true_labels = []\n",
    "    predicted_labels = []\n",
    "\n",
    "    for batch_idx, (data, target) in enumerate(train_loader):\n",
    "        data, target = data.to(DEVICE), target.to(DEVICE)\n",
    "        optimizer.zero_grad()\n",
    "        output = model(data)\n",
    "        loss = criterion(output, target)\n",
    "        loss.backward()\n",
    "        optimizer.step()\n",
    "        \n",
    "        running_loss += loss.item()\n",
    "        \n",
    "        _, predicted = torch.max(output.data, 1)\n",
    "        \n",
    "        true_labels.extend(target.tolist())\n",
    "        predicted_labels.extend(predicted.tolist())\n",
    "\n",
    "    train_loss = running_loss / len(train_loader)\n",
    "    train_accuracy = accuracy_score(true_labels, predicted_labels)\n",
    "    train_f1score = f1_score(true_labels, predicted_labels, average='macro')\n",
    "    \n",
    "    train_loss_history.append(train_loss)\n",
    "    train_accuracy_history.append(train_accuracy)\n",
    "    train_f1score_history.append(train_f1score)\n",
    "\n",
    "    print(f'Epoch [{epoch+1}/{num_epochs}], Training Loss: {train_loss:.4f}, Training Accuracy: {train_accuracy*100:.2f}%, Training F1-score: {train_f1score*100:.2f}%')"
   ]
  },
  {
   "cell_type": "code",
   "execution_count": 14,
   "id": "cb44c459-1aae-4bfb-9c5f-4d8c2d80c685",
   "metadata": {},
   "outputs": [],
   "source": [
    "# Save the trained model and metrics\n",
    "torch.save(model.state_dict(), 'ann_adam_mnist_model.pth')\n",
    "np.savez('ann_adam_mnist_training_history', train_loss_history=train_loss_history, train_accuracy_history=train_accuracy_history, train_f1score_history=train_f1score_history)"
   ]
  },
  {
   "cell_type": "code",
   "execution_count": 15,
   "id": "e4734b9e-0c5e-4850-b52c-6381de58a54a",
   "metadata": {},
   "outputs": [
    {
     "data": {
      "text/plain": [
       "<All keys matched successfully>"
      ]
     },
     "execution_count": 15,
     "metadata": {},
     "output_type": "execute_result"
    }
   ],
   "source": [
    "# Load the trained model\n",
    "model.load_state_dict(torch.load('ann_adam_mnist_model.pth'))"
   ]
  },
  {
   "cell_type": "code",
   "execution_count": 16,
   "id": "61b394d8-099a-4026-b5d3-8a2d287f807c",
   "metadata": {},
   "outputs": [
    {
     "name": "stdout",
     "output_type": "stream",
     "text": [
      "Test Accuracy: 87.95%, Test F1-score: 87.80%\n"
     ]
    }
   ],
   "source": [
    "# Step 6: Test the network\n",
    "model.eval()\n",
    "true_labels = []\n",
    "predicted_labels = []\n",
    "\n",
    "with torch.no_grad():\n",
    "    for data, target in test_loader:\n",
    "        data, target = data.to(DEVICE), target.to(DEVICE)\n",
    "        output = model(data)\n",
    "        _, predicted = torch.max(output.data, 1)\n",
    "        true_labels.extend(target.tolist())\n",
    "        predicted_labels.extend(predicted.tolist())\n",
    "        \n",
    "    test_accuracy = accuracy_score(true_labels, predicted_labels)\n",
    "    test_f1score = f1_score(true_labels, predicted_labels, average='macro')\n",
    "\n",
    "print(f'Test Accuracy: {test_accuracy*100:.2f}%, Test F1-score: {test_f1score*100:.2f}%')"
   ]
  },
  {
   "cell_type": "code",
   "execution_count": 17,
   "id": "a5d460a2-ceca-4e56-b2d2-22c7e7972280",
   "metadata": {},
   "outputs": [
    {
     "data": {
      "image/png": "[encoded data removed]",
      "text/plain": [
       "<Figure size 1200x500 with 2 Axes>"
      ]
     },
     "metadata": {},
     "output_type": "display_data"
    }
   ],
   "source": [
    "# Plot the training loss and accuracy\n",
    "plt.figure(figsize=(12, 5))\n",
    "plt.subplot(1, 2, 1)\n",
    "plt.plot(train_loss_history, label='Training Loss')\n",
    "plt.xlabel('Epoch')\n",
    "plt.ylabel('Loss')\n",
    "plt.legend()\n",
    "plt.title('Trained ANN by Adam optimizer')\n",
    "plt.subplot(1, 2, 2)\n",
    "plt.plot(train_f1score_history, label='Training F1-score')\n",
    "plt.xlabel('Epoch')\n",
    "plt.ylabel('Accuracy (%)')\n",
    "plt.legend()\n",
    "\n",
    "plt.show()"
   ]
  },
  {
   "cell_type": "code",
   "execution_count": null,
   "id": "3044f85b-01ee-4ab4-8a15-1169176ef36b",
   "metadata": {},
   "outputs": [],
   "source": []
  },
  {
   "cell_type": "code",
   "execution_count": null,
   "id": "e384a40b-b45e-4b0c-84d5-ce02e3967c3f",
   "metadata": {},
   "outputs": [],
   "source": []
  }
 ],
 "metadata": {
  "kernelspec": {
   "display_name": "Python 3 (ipykernel)",
   "language": "python",
   "name": "python3"
  },
  "language_info": {
   "codemirror_mode": {
    "name": "ipython",
    "version": 3
   },
   "file_extension": ".py",
   "mimetype": "text/x-python",
   "name": "python",
   "nbconvert_exporter": "python",
   "pygments_lexer": "ipython3",
   "version": "3.10.9"
  }
 },
 "nbformat": 4,
 "nbformat_minor": 5
}
